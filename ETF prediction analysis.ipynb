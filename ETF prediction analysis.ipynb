{
 "cells": [
  {
   "cell_type": "markdown",
   "id": "mexican-interim",
   "metadata": {},
   "source": [
    "# Analysis of ETF predictive models based on commonly used financial measures"
   ]
  },
  {
   "cell_type": "markdown",
   "id": "shaped-lending",
   "metadata": {},
   "source": [
    "### Loading dependencies "
   ]
  },
  {
   "cell_type": "code",
   "execution_count": 90,
   "id": "social-virus",
   "metadata": {},
   "outputs": [],
   "source": [
    "import pandas as pd \n",
    "import seaborn as sns\n",
    "from sklearn import linear_model\n",
    "from sklearn.model_selection import train_test_split\n",
    "from sklearn.metrics import r2_score\n",
    "from matplotlib import pyplot as plt"
   ]
  },
  {
   "cell_type": "markdown",
   "id": "verbal-commitment",
   "metadata": {},
   "source": [
    "### Loading Dataset and preliminary cleaning "
   ]
  },
  {
   "cell_type": "code",
   "execution_count": 2,
   "id": "popular-startup",
   "metadata": {},
   "outputs": [],
   "source": [
    "df = pd.read_pickle('/Users/diegoaub/Documents/Project/PKL/Dataframe.pkl')\n",
    "df = df.groupby(['fund_symbol']).last()\n",
    "df = df.drop(axis=1, labels = df.columns[[0,2,9]])"
   ]
  },
  {
   "cell_type": "markdown",
   "id": "medical-calibration",
   "metadata": {},
   "source": [
    "### Showing correlation between variables"
   ]
  },
  {
   "cell_type": "code",
   "execution_count": 111,
   "id": "velvet-european",
   "metadata": {},
   "outputs": [
    {
     "data": {
      "text/plain": [
       "<AxesSubplot:>"
      ]
     },
     "execution_count": 111,
     "metadata": {},
     "output_type": "execute_result"
    },
    {
     "data": {
      "image/png": "[encoded data removed]",
      "text/plain": [
       "<Figure size 432x288 with 2 Axes>"
      ]
     },
     "metadata": {
      "needs_background": "light"
     },
     "output_type": "display_data"
    }
   ],
   "source": [
    "sns.heatmap(df.corr())"
   ]
  },
  {
   "cell_type": "markdown",
   "id": "lasting-vision",
   "metadata": {},
   "source": [
    "The diagonal line showing complete correlaton is just a consequence of a variable interacting with itself. \n",
    "It seemes like the sharpe ratio holds some significance while most other values are fairly irrelevant. "
   ]
  },
  {
   "cell_type": "markdown",
   "id": "fiscal-tours",
   "metadata": {},
   "source": [
    "### Splitting dataset into train and test models"
   ]
  },
  {
   "cell_type": "code",
   "execution_count": 115,
   "id": "awful-parade",
   "metadata": {},
   "outputs": [],
   "source": [
    "indep = df[df.columns[1:7]]\n",
    "dep = df[df.columns[0:1]]\n",
    "x_train, x_test, y_train, y_test  = train_test_split(indep,dep,test_size=0.2, random_state=1)"
   ]
  },
  {
   "cell_type": "markdown",
   "id": "medieval-solomon",
   "metadata": {},
   "source": [
    "# Creating linear model"
   ]
  },
  {
   "cell_type": "code",
   "execution_count": 116,
   "id": "complex-illinois",
   "metadata": {},
   "outputs": [],
   "source": [
    "%%capture\n",
    "model_linear = linear_model.LinearRegression()\n",
    "model_linear.fit(x_train, y_train)"
   ]
  },
  {
   "cell_type": "markdown",
   "id": "infectious-typing",
   "metadata": {},
   "source": [
    "### Showing coefficients and intercepts"
   ]
  },
  {
   "cell_type": "markdown",
   "id": "general-score",
   "metadata": {},
   "source": [
    "The coefficients of this model are the following:"
   ]
  },
  {
   "cell_type": "code",
   "execution_count": 117,
   "id": "direct-vienna",
   "metadata": {},
   "outputs": [
    {
     "name": "stdout",
     "output_type": "stream",
     "text": [
      "[[-2.23172777e-02 -4.13574321e-01  3.01135814e-01  2.88232309e-01\n",
      "   3.87802634e+01  6.91259867e-02]]\n"
     ]
    }
   ],
   "source": [
    "print(model_linear.coef_)"
   ]
  },
  {
   "cell_type": "markdown",
   "id": "interracial-radar",
   "metadata": {},
   "source": [
    "The intercept of this model is the following:"
   ]
  },
  {
   "cell_type": "code",
   "execution_count": 118,
   "id": "considerable-nicaragua",
   "metadata": {},
   "outputs": [
    {
     "name": "stdout",
     "output_type": "stream",
     "text": [
      "[10.78689736]\n"
     ]
    }
   ],
   "source": [
    "print(model_linear.intercept_)"
   ]
  },
  {
   "cell_type": "markdown",
   "id": "expensive-operator",
   "metadata": {},
   "source": [
    "### Showing signifinace of variables"
   ]
  },
  {
   "cell_type": "markdown",
   "id": "refined-heart",
   "metadata": {},
   "source": [
    "The following is a measure of the relevance of each variable in the model"
   ]
  },
  {
   "cell_type": "code",
   "execution_count": 119,
   "id": "peripheral-subscription",
   "metadata": {},
   "outputs": [
    {
     "name": "stdout",
     "output_type": "stream",
     "text": [
      "Score:-0.02232 \n",
      "Feature:fund_alpha_3years\n",
      "\n",
      "Score:-0.41357 \n",
      "Feature:fund_beta_3years\n",
      "\n",
      "Score:0.30114 \n",
      "Feature:fund_r_squared_3years\n",
      "\n",
      "Score:0.28823 \n",
      "Feature:fund_stdev_3years\n",
      "\n",
      "Score:38.78026 \n",
      "Feature:fund_sharpe_ratio_3years\n",
      "\n",
      "Score:0.06913 \n",
      "Feature:fund_treynor_ratio_3years\n",
      "\n"
     ]
    }
   ],
   "source": [
    "importance_linear = model_linear.coef_[0]\n",
    "for x in range(0,len(importance_linear)):\n",
    "    print(f'Score:{importance_linear[x].round(5)} \\nFeature:{x_train.columns[x]}\\n')"
   ]
  },
  {
   "cell_type": "markdown",
   "id": "every-agency",
   "metadata": {},
   "source": [
    "### Comparing model to original data"
   ]
  },
  {
   "cell_type": "code",
   "execution_count": 120,
   "id": "specific-symbol",
   "metadata": {},
   "outputs": [],
   "source": [
    "y_predict_linear = model_linear.predict(x_test)"
   ]
  },
  {
   "cell_type": "code",
   "execution_count": 121,
   "id": "lonely-federation",
   "metadata": {},
   "outputs": [
    {
     "data": {
      "text/plain": [
       "0.1200504739666034"
      ]
     },
     "execution_count": 121,
     "metadata": {},
     "output_type": "execute_result"
    }
   ],
   "source": [
    "r2_score(y_test,y_predict_linear)"
   ]
  },
  {
   "cell_type": "markdown",
   "id": "beginning-jason",
   "metadata": {},
   "source": [
    "The model showed an r2 score of about 12%. This is pretty low. These measures cannot be used to accurately determine the price of an ETF. "
   ]
  },
  {
   "cell_type": "markdown",
   "id": "stopped-penetration",
   "metadata": {},
   "source": [
    "### Visually comparing r2 of variables"
   ]
  },
  {
   "cell_type": "code",
   "execution_count": 122,
   "id": "ordinary-billion",
   "metadata": {},
   "outputs": [
    {
     "data": {
      "text/plain": [
       "<BarContainer object of 6 artists>"
      ]
     },
     "execution_count": 122,
     "metadata": {},
     "output_type": "execute_result"
    },
    {
     "data": {
      "image/png": "[encoded data removed]",
      "text/plain": [
       "<Figure size 432x288 with 1 Axes>"
      ]
     },
     "metadata": {
      "needs_background": "light"
     },
     "output_type": "display_data"
    }
   ],
   "source": [
    "pyplot.bar(['Alpha','Beta','R-sq','Stdev','Sharpe','Treynor'], importance_linear)"
   ]
  },
  {
   "cell_type": "markdown",
   "id": "heard-mercy",
   "metadata": {},
   "source": [
    "### Plotting difference between predicted and real values"
   ]
  },
  {
   "cell_type": "code",
   "execution_count": 123,
   "id": "atomic-lancaster",
   "metadata": {},
   "outputs": [
    {
     "data": {
      "text/plain": [
       "<AxesSubplot:ylabel='Count'>"
      ]
     },
     "execution_count": 123,
     "metadata": {},
     "output_type": "execute_result"
    },
    {
     "data": {
      "image/png": "[encoded data removed]",
      "text/plain": [
       "<Figure size 432x288 with 1 Axes>"
      ]
     },
     "metadata": {
      "needs_background": "light"
     },
     "output_type": "display_data"
    }
   ],
   "source": [
    "sns.histplot(y_predict_linear-y_test)"
   ]
  },
  {
   "cell_type": "markdown",
   "id": "olive-reserve",
   "metadata": {},
   "source": [
    "This histogram shows that most predictions where plus or minus 100 from real values, while there are a few outliers. In the context of this analysis these findings confirm that the commonly used financial measures do not provide a worthwhile prediction of the price of an ETF.  "
   ]
  },
  {
   "cell_type": "markdown",
   "id": "professional-package",
   "metadata": {},
   "source": [
    "### Plotting real values to predicted values"
   ]
  },
  {
   "cell_type": "code",
   "execution_count": 133,
   "id": "reflected-budapest",
   "metadata": {},
   "outputs": [
    {
     "data": {
      "text/plain": [
       "(0.0, 200.0)"
      ]
     },
     "execution_count": 133,
     "metadata": {},
     "output_type": "execute_result"
    },
    {
     "data": {
      "image/png": "[encoded data removed]",
      "text/plain": [
       "<Figure size 864x576 with 1 Axes>"
      ]
     },
     "metadata": {
      "needs_background": "light"
     },
     "output_type": "display_data"
    }
   ],
   "source": [
    "plt.subplots(figsize=(12,8))\n",
    "plt.scatter(y_test,y_predict_linear,s=1)\n",
    "plt.plot(y_test,y_test,color='red')\n",
    "plt.xlim([0,200])\n",
    "plt.ylim([0,200])"
   ]
  },
  {
   "cell_type": "markdown",
   "id": "pleasant-hartford",
   "metadata": {},
   "source": [
    "### Conclusion"
   ]
  },
  {
   "cell_type": "markdown",
   "id": "periodic-roulette",
   "metadata": {},
   "source": [
    "With the given values, a consistent prediction of ETF prices could not be created. The reason might be due to the prices of ETF being largely based on the financial intstruments that make them up, rather than by the sheer forces of supply and demand of the actual ETF. Perhaps a similar model could provide better results if actual stocks were to be observed. \n",
    "\n",
    "Any attempt at a predicition of ETF prices might not be worthwhile because of the dependence that they share with their financial instruments. ETFs where looked at in this analysis out of sheer curiosity with an understanding that an actual reliable model was not likely. "
   ]
  }
 ],
 "metadata": {
  "kernelspec": {
   "display_name": "Python 3",
   "language": "python",
   "name": "python3"
  },
  "language_info": {
   "codemirror_mode": {
    "name": "ipython",
    "version": 3
   },
   "file_extension": ".py",
   "mimetype": "text/x-python",
   "name": "python",
   "nbconvert_exporter": "python",
   "pygments_lexer": "ipython3",
   "version": "3.9.0"
  }
 },
 "nbformat": 4,
 "nbformat_minor": 5
}
